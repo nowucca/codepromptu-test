{
 "cells": [
  {
   "cell_type": "markdown",
   "source": [
    "<img src=\"testing-with-ai.png\" width=\"100%\">\n",
    "<br>"
   ],
   "metadata": {
    "collapsed": false
   },
   "id": "d30eeb9ae626a01b"
  },
  {
   "cell_type": "code",
   "execution_count": 1,
   "outputs": [
    {
     "name": "stdout",
     "output_type": "stream",
     "text": [
      "tail: /home/ladmin/apps/codepromptu/nohup.out: No such file or directory\r\n"
     ]
    }
   ],
   "source": [
    "!tail -200 /home/ladmin/apps/codepromptu/nohup.out"
   ],
   "metadata": {
    "collapsed": false,
    "ExecuteTime": {
     "end_time": "2023-10-09T07:21:07.071884Z",
     "start_time": "2023-10-09T07:21:06.846818Z"
    }
   },
   "id": "46a58b42bb8d934a"
  },
  {
   "cell_type": "code",
   "execution_count": null,
   "outputs": [],
   "source": [],
   "metadata": {
    "collapsed": false
   },
   "id": "16a4efe446485836"
  }
 ],
 "metadata": {
  "kernelspec": {
   "display_name": "Python 3",
   "language": "python",
   "name": "python3"
  },
  "language_info": {
   "codemirror_mode": {
    "name": "ipython",
    "version": 2
   },
   "file_extension": ".py",
   "mimetype": "text/x-python",
   "name": "python",
   "nbconvert_exporter": "python",
   "pygments_lexer": "ipython2",
   "version": "2.7.6"
  }
 },
 "nbformat": 4,
 "nbformat_minor": 5
}
